{
 "cells": [
  {
   "cell_type": "markdown",
   "id": "82ffef4f",
   "metadata": {},
   "source": [
    "# <center>  <div style=\"background-color:red;color:black;padding:4%\"> <font size=\"6\"> PROJET <br> <br> <br>  <center> hind raissi  <font size=\"2\"> <br> 2 DNI1 </center> </div> "
   ]
  },
  {
   "cell_type": "markdown",
   "id": "9b85cd27",
   "metadata": {},
   "source": [
    "##  <div style=\"color:#9E1A1A\">L'intégration numérique </div>"
   ]
  },
  {
   "attachments": {
    "image.png": {
     "image/png": "[encoded data removed]"
    }
   },
   "cell_type": "markdown",
   "id": "adb93a89",
   "metadata": {},
   "source": [
    "Les méthodes d’intégration numérique sont en général utilisées soit pour intégrer une fonction analytique mais dont on ne peut pas connaître la primitive, soit pour intégrer une fonction connue uniquement sous forme discrète (issue de mesures expérimentales par exemple). Les techniques d’intégration numérique sont souvent basées sur la propriété d’égalité entre la valeur de l’intégrale et l’aire (signée) sous la courbe. \n",
    "\n",
    "![image.png](attachment:image.png)"
   ]
  },
  {
   "cell_type": "code",
   "execution_count": 2,
   "id": "0c8574f7",
   "metadata": {},
   "outputs": [],
   "source": [
    "import numpy as np\n",
    "from numpy import *\n",
    "import matplotlib.pyplot as plt\n",
    "from ipywidgets import *"
   ]
  },
  {
   "cell_type": "markdown",
   "id": "81fb7d86",
   "metadata": {},
   "source": [
    "##  <div style=\"color:red\">La méthode de point milieu : </div>"
   ]
  },
  {
   "cell_type": "code",
   "execution_count": 3,
   "id": "17f8f110",
   "metadata": {},
   "outputs": [
    {
     "ename": "IndentationError",
     "evalue": "unexpected indent (<ipython-input-3-fa522f22a844>, line 27)",
     "output_type": "error",
     "traceback": [
      "\u001b[1;36m  File \u001b[1;32m\"<ipython-input-3-fa522f22a844>\"\u001b[1;36m, line \u001b[1;32m27\u001b[0m\n\u001b[1;33m    yflist_fine = f(xlist_fine)\u001b[0m\n\u001b[1;37m    ^\u001b[0m\n\u001b[1;31mIndentationError\u001b[0m\u001b[1;31m:\u001b[0m unexpected indent\n"
     ]
    }
   ],
   "source": [
    "class Milieu(object): \n",
    "    def __init__(self, a, b, n, f):\n",
    "        self.a = a\n",
    "        self.b = b\n",
    "        self.x = np.linspace(a, b, n+1)\n",
    "        self.f = f\n",
    "        self.n = n\n",
    "    def integrate(self,f):\n",
    "        x=self.x\n",
    "        h = float(x[1] - x[0])\n",
    "        s=0\n",
    "        for i in range(self.n):\n",
    "            s=s+f((x[i]+x[i+1])*0.5)\n",
    "        return h*s\n",
    "       \n",
    "    def Graph(self,f,resolution=1001):\n",
    "        xl = self.x\n",
    "        yl=f(xl);\n",
    "        xlist_fine=np.linspace(self.a, self.b, resolution)        \n",
    "        for i in range(self.n):            \n",
    "            m=(xl[i]+xl[i+1])/2\n",
    "            x_rect = [xl[i], xl[i], xl[i+1], xl[i+1], xl[i]] \n",
    "            y_rect = [0  , f(m), f(m)  , 0 , 0 ] \n",
    "            plt.plot(x_rect, y_rect,\"r\")\n",
    "            plt.plot(m,f(m),\"g*\")\n",
    "     \n",
    "                yflist_fine = f(xlist_fine)\n",
    "        plt.plot(xlist_fine, yflist_fine,'b')\n",
    "        plt.xlabel('x')\n",
    "        plt.ylabel('f(x)')\n",
    "        plt.title('Milieu')\n",
    "        plt.text( 0.5*( self.a+ self.b ) , f(self.b ) , 'I_{} ={:0.8f}'.format(self.n,self.integrate( f ) ) , fontsize =15 )\n",
    "    \n",
    "    "
   ]
  },
  {
   "cell_type": "code",
   "execution_count": 4,
   "id": "4e9706e6",
   "metadata": {},
   "outputs": [],
   "source": [
    "class Milieu(object): \n",
    "    def __init__(self, a, b, n, f):\n",
    "        self.a = a\n",
    "        self.b = b\n",
    "        self.x = np.linspace(a, b, n+1)\n",
    "        self.f = f\n",
    "        self.n = n\n",
    "    def integrate(self,f):\n",
    "        x=self.x\n",
    "        h = float(x[1] - x[0])\n",
    "        s=0\n",
    "        for i in range(self.n):\n",
    "            s=s+f((x[i]+x[i+1])*0.5)\n",
    "        return h*s\n",
    "       \n",
    "    def Graph(self,f,resolution=1001):\n",
    "        xl = self.x\n",
    "        yl=f(xl);\n",
    "        xlist_fine=np.linspace(self.a, self.b, resolution)        \n",
    "        for i in range(self.n):            \n",
    "            m=(xl[i]+xl[i+1])/2\n",
    "            x_rect = [xl[i], xl[i], xl[i+1], xl[i+1], xl[i]] \n",
    "            y_rect = [0  , f(m), f(m)  , 0 , 0 ] \n",
    "            plt.plot(x_rect, y_rect,\"r\")\n",
    "            plt.plot(m,f(m),\"g*\")\n",
    "            \n",
    "        yflist_fine = f(xlist_fine)\n",
    "        plt.plot(xlist_fine, yflist_fine,'b')\n",
    "        plt.xlabel('x')\n",
    "        plt.ylabel('f(x)')\n",
    "        plt.title('Milieu')\n",
    "        plt.text( 0.5*( self.a+ self.b ) , f(self.b ) , 'I_{} ={:0.8f}'.format(self.n,self.integrate( f ) ) , fontsize =15 )"
   ]
  },
  {
   "cell_type": "markdown",
   "id": "23e59c89",
   "metadata": {},
   "source": [
    "##  <div style=\"color:red\">Le schéma de Simpson:</div>"
   ]
  },
  {
   "attachments": {
    "image.png": {
     "image/png": "[encoded data removed]"
    }
   },
   "cell_type": "markdown",
   "id": "3b044c12",
   "metadata": {},
   "source": [
    "La méthode de Simpson consiste à remplacer la courbe  $y = f(x)$ par un arc de parabole sur l’intervalle$ [x_i-_1,x_i+_1]$ , puis à intégrer la fonction ainsi obtenue sur l’intégrale .\n",
    "\n",
    "![image.png](attachment:image.png)\n",
    "\n",
    "L’arc de parabole passant par les trois points , on calcule son équation et l’intégrer facilement sur l’intervalle $[x_i-_1,x_i+_1]$\n",
    "<br> Puisque les intégrales prennent en compte deux intervalles à la fois, il faudra obligatoirement que <strong>le nombre total d’intervalle n soit pair.</strong>"
   ]
  },
  {
   "cell_type": "code",
   "execution_count": 5,
   "id": "e058c151",
   "metadata": {},
   "outputs": [],
   "source": [
    "class Simpson(object):\n",
    "    def __init__(self, a, b, n, f): \n",
    "        self.a = a\n",
    "        self.b = b\n",
    "        self.x = np.linspace(a, b, n+1)\n",
    "        self.f = f\n",
    "        self.n = n #\n",
    "\n",
    "    def integrate(self,f):\n",
    "        x=self.x \n",
    "        y=f(x)\n",
    "        h = float(x[1] - x[0])\n",
    "        n = len(x) - 1\n",
    "        if n % 2 == 1:\n",
    "            n =n-1\n",
    "        s = y[0] + y[n] + 4.0 * sum(y[1:-1:2]) + 2.0 * sum(y[2:-2:2])\n",
    "       \n",
    "        return h * s / 3.0\n",
    "    def Graph(self,f,resolution=1001):\n",
    "        xl = self.x \n",
    "        yl = f(xl) \n",
    "        xlist_fine=np.linspace(self.a, self.b, resolution)\n",
    "       \n",
    "        for i in range(self.n):\n",
    "            x1=np.linspace(xl[i], xl[i+1], resolution)\n",
    "            m=(xl[i]+xl[i+1])/2\n",
    "            bg=xl[i]\n",
    "            bd=xl[i+1]\n",
    "            l0 = (x1-m)/(bg-m)*(x1-bd)/(bg-bd)\n",
    "            l1 = (x1-bg)/(m-bg)*(x1-bd)/(m-bd)\n",
    "            l2 = (x1-bg)/(bd-bg)*(x1-m)/(bd-m)\n",
    "            P = f(bg)*l0 + f(m)*l1 + f(bd)*l2\n",
    "            plt.plot(x1,P,'b')\n",
    "            plt.plot(m,f(m),\"g*\")\n",
    "        yflist_fine = f(xlist_fine)\n",
    "        plt.plot(xlist_fine, yflist_fine,'b')\n",
    "        plt.plot(xl, yl,'r')\n",
    "        \n",
    "        plt.ylabel('f(x)')\n",
    "        plt.title('Simpson')\n",
    "        plt.text( 0.5*( self.a+ self.b ) , f(self.b ) , 'I_{} ={:0.8f}'.format(self.n,self.integrate( f ) ) , fontsize =15 )\n",
    "       "
   ]
  },
  {
   "cell_type": "markdown",
   "id": "6e6620a5",
   "metadata": {},
   "source": [
    "##  <div style=\"color:red\">La méthode des rectangles: </div>"
   ]
  },
  {
   "cell_type": "markdown",
   "id": "e9455813",
   "metadata": {},
   "source": [
    "Considérons donc une fonction de $R$ dans $R$ continue sur un intervalle $[a,b]$. Pour un physicien, intégrer signifie la plupart du temps calculer l'aire sous la courbe de la fonction entre a et b. \n",
    "La première méthode qui vienne à l'esprit, c'est de découper l'aire entre la courbe $f(x)$, l'axe des x et les droites$ x= a $et $x = b$, en une multitude de petits rectangles. Découpons l'intervalle $[a,b]$ en rectangles élémentaires de largeur h, h étant petit. Le rectangle n° i aura donc pour longueur $f(a + i*h)$. Sa surface est donc égale à $h*f(a + i*h)$. L'aire sous la courbe entre a et b est obtenue en sommant tous ces petits rectangles. Reste qu'en posant cette relation, j'ai fait l'hypothèse implicite que la courbe limite le coté gauche de mon rectangle. On peut imaginer d'autres découpages. Voyons cela sur un schéma."
   ]
  },
  {
   "cell_type": "code",
   "execution_count": 6,
   "id": "e380a583",
   "metadata": {},
   "outputs": [],
   "source": [
    "class RectangleG ( object ) :\n",
    "    def __init__ (self , a , b , n , f ) :\n",
    "        self.a = a\n",
    "        self.b = b\n",
    "        self.x = np.linspace( a , b , n+1 )\n",
    "        self.f = f\n",
    "        self.n = n\n",
    "    def integrate ( self , f ) :\n",
    "        x= self.x\n",
    "        y= f( x )\n",
    "        h = float( x[1] - x[0] )\n",
    "        s = sum( y[ 0 : -1 ] )\n",
    "        return h * s\n",
    "    def Graph ( self , f , resolution =1001 ) :\n",
    "        xl = self.x\n",
    "        yl = f(xl)\n",
    "        xlist_fine =np.linspace( self.a , self.b , resolution )\n",
    "        for i in range ( self.n ) :\n",
    "            x_rect = [xl[ i ] , xl[ i ] , xl[ i + 1 ] , xl[i+1] , xl[ i ] ] # abscisses des sommets\n",
    "            y_rect = [0 , yl[ i ] , yl[ i ] , 0 , 0 ] # ordonnees des sommets\n",
    "            plt.plot ( x_rect , y_rect , 'r' )\n",
    "        yflist_fine = f ( xlist_fine )\n",
    "        plt.plot ( xlist_fine , yflist_fine )\n",
    "        plt.plot(xl, yl,\"bo\")\n",
    "        plt.xlabel ( 'x' )\n",
    "        plt.ylabel ( ' f ( x ) ' )\n",
    "        plt.title ( ' Methode des rectangles gauches' )\n",
    "        plt.text( 0.5*( self.a+ self.b ) , f(self.b ) , 'I_{} ={:0.8f}'.format(self.n,self.integrate( f ) ) , fontsize =15 )"
   ]
  },
  {
   "cell_type": "markdown",
   "id": "e2448d5d",
   "metadata": {},
   "source": [
    "##  <div style=\"color:red\">La méthode des trapèzes: </div>"
   ]
  },
  {
   "attachments": {
    "image.png": {
     "image/png": "[encoded data removed]"
    }
   },
   "cell_type": "markdown",
   "id": "79e7c10f",
   "metadata": {},
   "source": [
    "On considère une fonction $f(x)$ définie sur un intervalle $[a,b]$  , et dont on veut calculer l’intégrale $ ∫ f(x) dx$ sur ce même intervalle. La méthode des trapèzes consiste à diviser l’intervalle $[a,b]$  en une série d’intervalles $[x_i-_1,x_i]$   , à remplacer la courbe $y = f(x)$ par un segment de droite, et à calculer l’aire du trapèze ainsi obtenu.\n",
    "\n",
    "![image.png](attachment:image.png)"
   ]
  },
  {
   "cell_type": "code",
   "execution_count": 7,
   "id": "3989199b",
   "metadata": {},
   "outputs": [],
   "source": [
    "class Trapezoidal(object):\n",
    "    def __init__(self, a, b, n, f):\n",
    "        self.a = a\n",
    "        self.b = b\n",
    "        self.x = np.linspace(a, b, n+1)\n",
    "        self.f = f\n",
    "        self.n = n\n",
    "    def integrate(self,f):\n",
    "        x=self.x\n",
    "        y=f(x)\n",
    "        h = float(x[1] - x[0])\n",
    "        s = y[0] + y[-1] + 2.0*sum(y[1:-1])\n",
    "        return h * s / 2.0\n",
    "    def Graph(self,f,resolution=1001):\n",
    "        xl = self.x\n",
    "        yl = f(xl)\n",
    "        xlist_fine=np.linspace(self.a, self.b, resolution)\n",
    "        for i in range(self.n):\n",
    "            x_rect = [xl[i], xl[i], xl[i+1], xl[i+1], xl[i]] # abscisses des sommets\n",
    "            y_rect = [0   , yl[i], yl[i+1]  , 0     , 0   ] # ordonnees des sommets\n",
    "            plt.plot(x_rect, y_rect,\"m\")\n",
    "        yflist_fine = f(xlist_fine)\n",
    "        plt.plot(xlist_fine, yflist_fine)#plot de f(x)\n",
    "        plt.plot(xl, yl,\"cs\")#point support\n",
    "        plt.ylabel('f(x)')\n",
    "        plt.title ( ' Methode des trapèzes' )\n",
    "\n",
    "        plt.text(0.2*(self.a+self.b), 0.25*f(self.b), '$I_{%s} =\\int_{a}^{b}f(x)dx$=%12.4f' % (self.n,self.integrate(f)), fontsize=15)"
   ]
  },
  {
   "cell_type": "markdown",
   "id": "c8231616",
   "metadata": {},
   "source": [
    "##  <div style=\"color:red\"> Simulation </div>\n"
   ]
  },
  {
   "cell_type": "code",
   "execution_count": 8,
   "id": "a60378b6",
   "metadata": {},
   "outputs": [],
   "source": [
    "def simule(n,f,a,b):\n",
    "    \n",
    "    R=RectangleG(a,b,n,f)\n",
    "    T=Trapezoidal(a,b,n,f)\n",
    "    M=Milieu(a,b,n,f)\n",
    "    S=Simpson(a,b,n,f)\n",
    "    plt.subplot(321)\n",
    "    R.Graph(f)  \n",
    "    plt.subplot(322)    \n",
    "    T.Graph(f) \n",
    "    plt.subplot(325)\n",
    "    M.Graph(f)\n",
    "    plt.subplot(326)\n",
    "    S.Graph(f)    \n",
    "    plt.show()"
   ]
  },
  {
   "cell_type": "code",
   "execution_count": 9,
   "id": "ee8c5772",
   "metadata": {},
   "outputs": [],
   "source": [
    "from ipywidgets import interact, interactive, fixed, interact_manual, widgets"
   ]
  },
  {
   "cell_type": "code",
   "execution_count": 10,
   "id": "921214f7",
   "metadata": {},
   "outputs": [
    {
     "data": {
      "text/plain": [
       "<Figure size 720x504 with 0 Axes>"
      ]
     },
     "metadata": {},
     "output_type": "display_data"
    }
   ],
   "source": [
    "output = widgets.Output()\n",
    "with output:\n",
    "    fig= plt.figure(figsize=(10,7))\n",
    "fig.canvas.toolbar_position = 'bottom'"
   ]
  },
  {
   "cell_type": "code",
   "execution_count": 11,
   "id": "18c32e87",
   "metadata": {},
   "outputs": [],
   "source": []
  },
  {
   "cell_type": "code",
   "execution_count": 12,
   "id": "cc4d9044",
   "metadata": {},
   "outputs": [],
   "source": [
    "def on_button_clicked(b):\n",
    "    with output:\n",
    "        fig.clear()\n",
    "        simule(int_slider.value,select.value,text_a.value,text_b.value)"
   ]
  },
  {
   "cell_type": "markdown",
   "id": "dc06b261",
   "metadata": {},
   "source": [
    "##  <div style=\"color:red\"> Choisir valeur N , Fonction et a et b :  </div>"
   ]
  },
  {
   "cell_type": "code",
   "execution_count": 15,
   "id": "fef56d83",
   "metadata": {},
   "outputs": [
    {
     "data": {
      "application/vnd.jupyter.widget-view+json": {
       "model_id": "f5983c5e66534c758089593a9b2b5329",
       "version_major": 2,
       "version_minor": 0
      },
      "text/plain": [
       "HBox(children=(VBox(children=(IntSlider(value=17, description='Choisir N', max=50, min=1), Dropdown(descriptio…"
      ]
     },
     "metadata": {},
     "output_type": "display_data"
    }
   ],
   "source": [
    "vbox1 = widgets.VBox([int_slider,select,text_a,text_b,button])\n",
    "vbox2 = widgets.VBox([ output])\n",
    "\n",
    "box_layout = widgets.Layout()\n",
    "\n",
    "vbox1.layout = box_layout\n",
    "vbox2.layout = box_layout\n",
    "button.on_click(on_button_clicked)\n",
    "widgets.HBox([vbox1, vbox2])"
   ]
  }
 ],
 "metadata": {
  "kernelspec": {
   "display_name": "Python 3",
   "language": "python",
   "name": "python3"
  },
  "language_info": {
   "codemirror_mode": {
    "name": "ipython",
    "version": 3
   },
   "file_extension": ".py",
   "mimetype": "text/x-python",
   "name": "python",
   "nbconvert_exporter": "python",
   "pygments_lexer": "ipython3",
   "version": "3.8.8"
  }
 },
 "nbformat": 4,
 "nbformat_minor": 5
}
