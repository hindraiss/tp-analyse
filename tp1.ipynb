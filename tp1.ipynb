{
 "cells": [
  {
   "cell_type": "markdown",
   "id": "a76456c2",
   "metadata": {},
   "source": [
    "\n",
    "\n",
    "\n",
    "\n",
    "\n",
    "\n",
    "\n",
    "   ## <center> <div style=\"background-color:red;color:black;padding:8%\"> <font size=\"7\">COMPTE RENDU TP1</div> \n",
    " \n",
    "\n"
   ]
  },
  {
   "cell_type": "markdown",
   "id": "b0c5f225",
   "metadata": {},
   "source": [
    "#  <font color=\"blue\"/>EXERCICE 2: \n"
   ]
  },
  {
   "cell_type": "markdown",
   "id": "039f2b5b",
   "metadata": {},
   "source": [
    "### ``1) a courbe de 𝑓 dans l'intervalle [−2;2]  avec python :``"
   ]
  },
  {
   "cell_type": "code",
   "execution_count": 6,
   "id": "9138c785",
   "metadata": {},
   "outputs": [
    {
     "data": {
      "text/plain": [
       "[<matplotlib.lines.Line2D at 0x812e100>]"
      ]
     },
     "execution_count": 6,
     "metadata": {},
     "output_type": "execute_result"
    },
    {
     "data": {
      "image/png": "[encoded data removed]",
      "text/plain": [
       "<Figure size 432x288 with 1 Axes>"
      ]
     },
     "metadata": {
      "needs_background": "light"
     },
     "output_type": "display_data"
    }
   ],
   "source": [
    "import matplotlib.pyplot as plt\n",
    "from numpy import linspace\n",
    "f=lambda x: x**3+x**2-3*x-3\n",
    "T=linspace(-2,2,41)\n",
    "plt.title(\"solution dans [-2:2] \");\n",
    "plt.xlabel(\"x\")\n",
    "plt.ylabel (\"f(x)\")\n",
    "plt.grid(True)\n",
    "plt.plot(T,f(T))"
   ]
  },
  {
   "cell_type": "markdown",
   "id": "dea566ce",
   "metadata": {},
   "source": [
    "## `` Daprés le graphe de f il existe 3 solutions :``\n",
    "\n",
    "\n",
    "### - $\\alpha_1 \\in ]-2;-1.5[$ \n",
    "### - $\\alpha_2 \\in ]-1.5;-0.5[$ \n",
    "### - $\\alpha_3 \\in ]1.5;2[$ "
   ]
  },
  {
   "cell_type": "markdown",
   "id": "84b4ec43",
   "metadata": {},
   "source": [
    "## `la version python de Dichotomie` : "
   ]
  },
  {
   "cell_type": "code",
   "execution_count": 7,
   "id": "4f18d0b2",
   "metadata": {},
   "outputs": [
    {
     "name": "stdout",
     "output_type": "stream",
     "text": [
      "-1.732025146484375\n"
     ]
    }
   ],
   "source": [
    "def Dichotomie(a,b,f,e):\n",
    " m=(a+b)/2\n",
    "    #calcul de la longueur de [a,b]\n",
    " ecart = abs(b-a)\n",
    " while ecart>e:\n",
    "        if f(a)*f(m)<0:\n",
    "             b=m\n",
    "        else:\n",
    "            a=m\n",
    "        m=(a+b)/2\n",
    "        ecart = b-a\n",
    " return m\n",
    "f=lambda x: x**3+x**2-3*x-3\n",
    "print(Dichotomie(-2,-1.5,f,0.0001))"
   ]
  },
  {
   "cell_type": "markdown",
   "id": "7f7ef6a8",
   "metadata": {},
   "source": [
    "#### - $\\alpha_1 \\in ]-2;-1.5[$ \n",
    "#### - $\\alpha_2 \\in ]-1.5;-0.5[$ \n",
    "#### - $\\alpha_3 \\in ]1.5;2[$ "
   ]
  },
  {
   "cell_type": "code",
   "execution_count": 8,
   "id": "05150543",
   "metadata": {},
   "outputs": [
    {
     "data": {
      "text/plain": [
       "-1.73193359375"
      ]
     },
     "execution_count": 8,
     "metadata": {},
     "output_type": "execute_result"
    }
   ],
   "source": [
    "Dichotomie(-2,-1.5,f,0.001)"
   ]
  },
  {
   "cell_type": "code",
   "execution_count": 9,
   "id": "a9ce35e1",
   "metadata": {},
   "outputs": [
    {
     "data": {
      "text/plain": [
       "-0.50048828125"
      ]
     },
     "execution_count": 9,
     "metadata": {},
     "output_type": "execute_result"
    }
   ],
   "source": [
    "Dichotomie(-1.5,-0.5,f,0.001)"
   ]
  },
  {
   "cell_type": "code",
   "execution_count": 10,
   "id": "4c3a90cd",
   "metadata": {},
   "outputs": [
    {
     "data": {
      "text/plain": [
       "1.73193359375"
      ]
     },
     "execution_count": 10,
     "metadata": {},
     "output_type": "execute_result"
    }
   ],
   "source": [
    "Dichotomie(1.5,2,f,0.001)"
   ]
  },
  {
   "cell_type": "markdown",
   "id": "9c1ed75b",
   "metadata": {},
   "source": [
    "## `calcule de nombre d'itération :`"
   ]
  },
  {
   "cell_type": "code",
   "execution_count": 11,
   "id": "2fd98b48",
   "metadata": {},
   "outputs": [],
   "source": [
    "def Dichotomie(a,b,f,eps):\n",
    "    m=(a+b)/2\n",
    "    ecart = abs(b-a)\n",
    "    n=0\n",
    "    while abs(b-a)>eps:\n",
    "        n+=1\n",
    "        if f(a)*f(m)<0:\n",
    "             b=m\n",
    "        else:\n",
    "            a=m\n",
    "        m=(a+b)/2\n",
    "    print (\" nbr d'itérations nécessaires :\", n )\n",
    "    return m"
   ]
  },
  {
   "cell_type": "code",
   "execution_count": 12,
   "id": "4411a394",
   "metadata": {},
   "outputs": [
    {
     "name": "stdout",
     "output_type": "stream",
     "text": [
      " nbr d'itérations nécessaires : 9\n",
      " nbr d'itérations nécessaires : 10\n",
      " nbr d'itérations nécessaires : 9\n"
     ]
    },
    {
     "data": {
      "text/plain": [
       "1.73193359375"
      ]
     },
     "execution_count": 12,
     "metadata": {},
     "output_type": "execute_result"
    }
   ],
   "source": [
    "Dichotomie(-2,-1.5,f,0.001)\n",
    "Dichotomie(-1.5,-0.5,f,0.001)\n",
    "Dichotomie(1.5,2,f,0.001)"
   ]
  },
  {
   "cell_type": "markdown",
   "id": "58e36c44",
   "metadata": {},
   "source": [
    "## <center> <div style=\"background-color:red;color:black;padding:5%;\"> Principe de Methode Dichotomie : </div>  </center>\n",
    "\n",
    " <font size=\"3\" >   La méthode de dichotomie est une méthode pour trouver une solution approchée à une équation f(x)=0\n",
    ". Précisément, supposons que la fonction f est continue sur l'intervalle [a,b], avec f(a)≤0et f(b)≥0 On sait donc qu'il existe au moins un réel c dans l'intervalle [a,b] tel que  f(c)=0   L'idée est alors d'évaluer ce que vaut f au milieu de [a,b]\n",
    "et de distinguer les deux cas suivants : \n",
    "     \n",
    "     \n",
    "- si f(a+b/2)≤0, alors on sait qu'on a une racine dans l'intervalle [a+b/2,b] \n",
    "    \n",
    "- sinon, f(a+b/2)>0 et on sait qu'on a une racine dans l'intervalle [a,a+b/2] Ainsi, dans les deux cas, on a trouvé un intervalle de longueur moitié dans lequel est située une racine de l'équation f(x)=0\n",
    "    \n",
    "    \n",
    "On recommence alors avec cet intervalle, et ainsi de suite jusqu'à ce qu'on trouve une approximation qui nous convienne.    \n"
   ]
  },
  {
   "cell_type": "markdown",
   "id": "2f529852",
   "metadata": {},
   "source": [
    "# <font color=\"blue\"/>EXERCICE 3:"
   ]
  },
  {
   "cell_type": "markdown",
   "id": "99d33826",
   "metadata": {},
   "source": [
    "### `1) la courbe de 𝑓  dans l'intervalle :              [ 1 ; 2 ]` \n"
   ]
  },
  {
   "cell_type": "code",
   "execution_count": 13,
   "id": "852b640a",
   "metadata": {},
   "outputs": [
    {
     "data": {
      "image/png": "[encoded data removed]",
      "text/plain": [
       "<Figure size 432x288 with 4 Axes>"
      ]
     },
     "metadata": {
      "needs_background": "light"
     },
     "output_type": "display_data"
    }
   ],
   "source": [
    "%matplotlib inline\n",
    "#import mpld3\n",
    "#mpld3.enable_notebook()\n",
    "import numpy as np \n",
    "import matplotlib.pyplot as plt\n",
    "\n",
    "f=lambda x:x**3+4*x**2-10\n",
    "\n",
    "t=np.linspace(1,2,100)\n",
    "plt.subplot(2,2,1)\n",
    "plt.plot(t,f(t),'r')\n",
    "plt.grid(True)\n",
    "##########################################\n",
    "t=np.linspace(1.2,1.4,100)\n",
    "plt.subplot(2,2,2)\n",
    "plt.plot(t,f(t),'r')\n",
    "plt.grid(True)\n",
    "##########################################\n",
    "t=np.linspace(1.35,1.4,100)\n",
    "plt.subplot(2,2,3)\n",
    "plt.plot(t,f(t),'r')\n",
    "plt.grid(True)\n",
    "#########################################\n",
    "t=np.linspace(1.365,1.367,100)\n",
    "plt.subplot(2,2,4)\n",
    "plt.plot(t,f(t),'r')\n",
    "plt.grid(True)"
   ]
  },
  {
   "cell_type": "markdown",
   "id": "f01dc948",
   "metadata": {},
   "source": [
    "## `2) Justification théorique pour la fonction g1`:"
   ]
  },
  {
   "cell_type": "markdown",
   "id": "fdef4541",
   "metadata": {},
   "source": [
    "On considère l'équation : $$ f(x)=x^3+4x^2-10=0$$\n",
    "\n",
    "a) $g(x)=\\frac{1}{2}\\sqrt{10-x^3}=x$."
   ]
  },
  {
   "cell_type": "markdown",
   "id": "c885c339",
   "metadata": {},
   "source": [
    "$$x^3+4x^2-10=0$$ \n",
    "    \n",
    " $$4x^2=10-x^3$$\n",
    " \n",
    " $$2x=\\sqrt{10-x^3}$$\n",
    " \n",
    " $$x=\\frac{1}{2}\\sqrt{10-x^3}$$\n",
    " \n",
    "Donc $ f(x)=g(x)$"
   ]
  },
  {
   "cell_type": "markdown",
   "id": "40bd9dd6",
   "metadata": {},
   "source": [
    "## `Calcul symbolique de la dérivée`"
   ]
  },
  {
   "cell_type": "code",
   "execution_count": 14,
   "id": "a9ddec83",
   "metadata": {},
   "outputs": [],
   "source": [
    "from sympy import *\n",
    "import numpy as np\n",
    "x, y, z = symbols('x y z')\n",
    "init_printing(use_unicode=True)\n",
    "g1=lambda x: 1/2*sqrt(10-x**3)"
   ]
  },
  {
   "cell_type": "code",
   "execution_count": 15,
   "id": "050f0791",
   "metadata": {},
   "outputs": [
    {
     "data": {
      "image/png": "[encoded data removed]",
      "text/latex": [
       "$\\displaystyle -0.511744628292746$"
      ],
      "text/plain": [
       "-0.5117446282927461"
      ]
     },
     "execution_count": 15,
     "metadata": {},
     "output_type": "execute_result"
    }
   ],
   "source": [
    "dg1=lambdify(x,diff(g1(x),x,1))\n",
    "dg1(1.365)"
   ]
  },
  {
   "cell_type": "markdown",
   "id": "35f01aa0",
   "metadata": {},
   "source": [
    "### ``Que pouvez vous conclure à propos des convergences de g1 ``\n",
    "\n",
    "\n",
    "## <div style=\"color:red;padding:4%;\"/>   On peut Conclure que g1 Converge Localement car |g'(x)| < 1 "
   ]
  },
  {
   "cell_type": "markdown",
   "id": "18327ea0",
   "metadata": {},
   "source": [
    "## ``Justification théoriques pour g2 et g3  ``"
   ]
  },
  {
   "cell_type": "markdown",
   "id": "04967864",
   "metadata": {},
   "source": [
    "On considère l'équation : $$ f(x)=x^3+4x^2-10=0$$\n",
    "\n",
    "b) $g(x)=\\sqrt{\\displaystyle\\frac{10}{4+x}}=x$."
   ]
  },
  {
   "cell_type": "markdown",
   "id": "1ecc607e",
   "metadata": {},
   "source": [
    "$$x^3+4x^2-10=0$$\n",
    "$$x^3+4x^2=10$$\n",
    "$$x^2(x+4)=10$$\n",
    "$$x^2=\\frac{10}{x+4}$$\n",
    "$$x=\\sqrt{\\displaystyle\\frac{10}{4+x}}$$\n",
    "Donc $ f(x)=g(x)$"
   ]
  },
  {
   "cell_type": "markdown",
   "id": "73a42d0f",
   "metadata": {},
   "source": [
    "On considère l'équation : $$ f(x)=x^3+4x^2-10=0$$\n",
    "c) $g(x)=x-x^3-4x^2+10=x$."
   ]
  },
  {
   "cell_type": "markdown",
   "id": "1f0549c9",
   "metadata": {},
   "source": [
    "$$x^3+4x^2-10=0$$\n",
    "$$x^3+4x^2-10+x-x=0$$\n",
    "$$x^3-4x^2+x-x=10$$\n",
    "$$x^3-4x^2+x=x+10$$\n",
    "$$4x^2+x=x-x^3+10$$\n",
    "$$x=x-x^3-4x^2+10$$\n",
    "Donc $ f(x)=g(x)$"
   ]
  },
  {
   "cell_type": "markdown",
   "id": "7a720d5e",
   "metadata": {},
   "source": [
    "##  ``3) la solution avec un code python :``\n"
   ]
  },
  {
   "cell_type": "code",
   "execution_count": 16,
   "id": "810b7d25",
   "metadata": {},
   "outputs": [],
   "source": [
    "f=lambda x:  x**3+4*x**2-10 # la fonction f\n",
    "g1=lambda x: 1/2*sqrt(10-x**3)\n",
    "g2=lambda x: sqrt(10/(x+4))\n",
    "g3=lambda x: x-x**3-4*x**2 + 10\n",
    "\n",
    "\n",
    "def ptfixe(g,x0,eps,nmax):\n",
    "    pass                                        \n",
    "    print('pas de convergence avec nombre iteration')\n"
   ]
  },
  {
   "cell_type": "code",
   "execution_count": 17,
   "id": "efa7a876",
   "metadata": {},
   "outputs": [
    {
     "name": "stdout",
     "output_type": "stream",
     "text": [
      "pas de convergence avec nombre iteration\n"
     ]
    }
   ],
   "source": [
    "ptfixe(g3,1.5,0.0001,30)"
   ]
  },
  {
   "cell_type": "markdown",
   "id": "6d0b3db8",
   "metadata": {},
   "source": [
    "## ``4) determination de la fonction qui donne la convergence la plus rapide  ``\n",
    "\n",
    "Donner le nombre d'itération pour chaque méthode convergente\n",
    "+ $g_2$ donne le resultat en ? itérations \n",
    "+ $g_1$ donne le resultat en ?\n",
    "+ est - elle convergente?\n",
    "\n",
    " <font size=\"5\" color=\"green\"> Pour la fonction $g_3$   est divergente =>> on va compare g1  et g2\n",
    "\n",
    " <font size=\"5\">le nombre d'itération pour $g_1$ est égale à 9 qui est superieur à $g_2$ et le temps d'exècution de $g_2$  est inferieur a temps d'execution de $g_1$ alors : \n",
    "\n",
    "    =>  `` G2 la fonction qui donne la convergence la plus rapide  ``"
   ]
  },
  {
   "cell_type": "markdown",
   "id": "e29310c4",
   "metadata": {},
   "source": [
    "### <center> <div style=\"background-color:red;color:black;padding:5%;\"> <font size=\"5\"> Methode point fixe : </center>"
   ]
  },
  {
   "cell_type": "markdown",
   "id": "7b179f21",
   "metadata": {},
   "source": [
    "<font size=\"5\"> La méthode du point fixe appliquée à la résolutions d’équations non linéaires  consiste à élaborer un schéma itératif<br> en l’occurence une suite convergentevers  un point  fixe x d’une certaine application g, ce point fixe est en l’occurence la solution de l’équation f(x)=0."
   ]
  },
  {
   "cell_type": "markdown",
   "id": "9f697360",
   "metadata": {},
   "source": [
    "# <font color=\"blue\"/>EXERCICE 4:\n"
   ]
  },
  {
   "cell_type": "markdown",
   "id": "7fe83038",
   "metadata": {},
   "source": [
    "### <center> <div style=\"background-color:red;color:black;padding:5%;\"> <font size=\"5\"> Methode Newton : <center>"
   ]
  },
  {
   "cell_type": "markdown",
   "id": "bf5e3bfd",
   "metadata": {},
   "source": [
    "<font size=\"4\">la méthode de Newton est, dans son application la plus simple, un algorithme efficace pour trouver numériquement une approximation précise d'un zéro (ou racine) d'une fonction réelle d'une variable réelle. <font size=\"5\" color=\"blue\"><br><br>  => c'est une methde très rapide"
   ]
  },
  {
   "cell_type": "markdown",
   "id": "d82e8ed0",
   "metadata": {},
   "source": [
    "##   `` la solution entière avec un code python :  ``"
   ]
  },
  {
   "cell_type": "code",
   "execution_count": 19,
   "id": "ed3bf8e7",
   "metadata": {},
   "outputs": [],
   "source": [
    "from math import exp\n",
    "from time import time\n",
    "f=lambda x: exp(-x)-x\n",
    "fprime=lambda x: -exp(-x)-1\n",
    "def newton(a,eps):\n",
    "    debut=time()\n",
    "    x1=a\n",
    "    x2=x1-f(x1)/fprime(x1)\n",
    "    while (abs(x1-x2)>eps) :\n",
    "        x1=x2\n",
    "        x2=x1-(f(x1)/fprime(x1))\n",
    "        fin=time()\n",
    "    return x2,fin-debut\n"
   ]
  },
  {
   "cell_type": "code",
   "execution_count": 20,
   "id": "896d2010",
   "metadata": {},
   "outputs": [
    {
     "data": {
      "image/png": "[encoded data removed]",
      "text/latex": [
       "$\\displaystyle \\left( 0.567143285989123, \\  0.0\\right)$"
      ],
      "text/plain": [
       "(0.567143285989123, 0.0)"
      ]
     },
     "execution_count": 20,
     "metadata": {},
     "output_type": "execute_result"
    }
   ],
   "source": [
    "newton(1,0.001)\n"
   ]
  },
  {
   "cell_type": "markdown",
   "id": "7d698926",
   "metadata": {},
   "source": [
    "## <center> <div style=\"background-color:black;color:white;padding:4%;\"> conclusion : </div>  </center>\n",
    "\n",
    " <font size=\"3\" > ce tp est une ocasion pour etudier les methodes de dichotomie,point fixe et methode de newton."
   ]
  },
  {
   "cell_type": "code",
   "execution_count": null,
   "id": "20509b79",
   "metadata": {},
   "outputs": [],
   "source": []
  }
 ],
 "metadata": {
  "kernelspec": {
   "display_name": "Python 3",
   "language": "python",
   "name": "python3"
  },
  "language_info": {
   "codemirror_mode": {
    "name": "ipython",
    "version": 3
   },
   "file_extension": ".py",
   "mimetype": "text/x-python",
   "name": "python",
   "nbconvert_exporter": "python",
   "pygments_lexer": "ipython3",
   "version": "3.8.8"
  }
 },
 "nbformat": 4,
 "nbformat_minor": 5
}
